{
 "cells": [
  {
   "cell_type": "markdown",
   "metadata": {},
   "source": [
    "# Bedtime Hypothesis \n",
    "### H1 – Earlier bedtime positively impacts recovery\n",
    "___\n",
    "Maybe it's all the knowledge I have on the subject, and surrounding, but I can't help but obfuscate what might be clear to others. I think I feel better on nights where I sleep earlier, but I can't be sure. The causality meausre (PPS) indicates that the bedtime variable does have explanatory power when it comes to recovery (HRV, physical activity, etc) There's also a hint at chains of causality - bedtime_start seems to explain bedtime_end, which is sensible enough; bedtime_start also somewhat explains coffee_consumptions which in turn somewhat explains activity and thus, bedtime_start.\n",
    "\n",
    "There's also conflating factors which probably raises the PPS causality measure. E.g. alcohol.\n",
    "\n",
    "Inspecting the matrix of PPS's it appears that bedtime "
   ]
  },
  {
   "cell_type": "code",
   "execution_count": null,
   "metadata": {},
   "outputs": [],
   "source": [
    "\n"
   ]
  }
 ],
 "metadata": {
  "kernelspec": {
   "display_name": "Python 3",
   "language": "python",
   "name": "python3"
  },
  "language_info": {
   "codemirror_mode": {
    "name": "ipython",
    "version": 3
   },
   "file_extension": ".py",
   "mimetype": "text/x-python",
   "name": "python",
   "nbconvert_exporter": "python",
   "pygments_lexer": "ipython3",
   "version": "3.8.5"
  }
 },
 "nbformat": 4,
 "nbformat_minor": 4
}
