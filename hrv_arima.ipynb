{
 "cells": [
  {
   "cell_type": "markdown",
   "metadata": {},
   "source": [
    "# ARIMA / GARCH Based Recovery Recommendations\n",
    "___\n",
    "\n",
    "## Intro\n",
    "\n",
    "[Heart Rate Variability](https://en.wikipedia.org/wiki/Heart_rate_variability) is the primary meaure of preparedness for stress which My Oura ring uses to advise me on how much exercise would be ideal for me for that day. It lines up quite well with my subjective feeling, but an intra-day comparison shows that there's zero correlation. Of course, I really ought to consider the few days of data before. I'll get around to that.\n",
    "\n",
    "In any case, I thought i'd try throwing ARIMA and GARCH at my own health data and seeing what would come of it. The ARIMA model can be checked against future data to see if it can make predictions on future data. On the GARCH side of things, I can turn it into a product. Something that makes predictions dynamically.\n",
    "\n",
    "Application wise, there's a few immediate ideas that come to mind for an integrated sytem:\n",
    "\n",
    "Example 1\n",
    "> I'm still out past my bed time? It automatically guesses how much sleep I need and based on that expectation, adjusts my Hue light auto-on feature and my alarm to match it appropriately. Of course, I can sign off on the suggestion once I'm in bed or make changes.\n",
    "\n",
    "Exmaple 2\n",
    "> \n",
    "\n",
    "### TOC\n",
    "\n",
    "- Assumption of:\n",
    "    - Stationarity\n",
    "    - "
   ]
  },
  {
   "cell_type": "code",
   "execution_count": null,
   "metadata": {},
   "outputs": [],
   "source": [
    "import numpy as np\n",
    "import pandas as pd"
   ]
  },
  {
   "cell_type": "code",
   "execution_count": null,
   "metadata": {},
   "outputs": [],
   "source": [
    "# --- Get Data\n",
    "\n",
    "df = pd.from_csv(\"\")"
   ]
  },
  {
   "cell_type": "markdown",
   "metadata": {},
   "source": [
    "### 1. Coordinate Assumptions\n",
    "\n",
    "First determine whether or not the data is stationary"
   ]
  },
  {
   "cell_type": "code",
   "execution_count": null,
   "metadata": {},
   "outputs": [],
   "source": [
    "# --- Check for Stationarity\n",
    "\n",
    "from statsmodels.tsa.stattools import adfuller\n",
    "\n"
   ]
  }
 ],
 "metadata": {
  "kernelspec": {
   "display_name": "Python 3",
   "language": "python",
   "name": "python3"
  },
  "language_info": {
   "codemirror_mode": {
    "name": "ipython",
    "version": 3
   },
   "file_extension": ".py",
   "mimetype": "text/x-python",
   "name": "python",
   "nbconvert_exporter": "python",
   "pygments_lexer": "ipython3",
   "version": "3.8.5"
  }
 },
 "nbformat": 4,
 "nbformat_minor": 4
}
