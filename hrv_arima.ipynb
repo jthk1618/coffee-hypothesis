{
 "cells": [
  {
   "cell_type": "markdown",
   "metadata": {},
   "source": [
    "# ARIMA Based Recovery Recommendations\n",
    "___\n",
    "\n",
    "## Intro\n",
    "\n",
    "[Heart Rate Variability](https://en.wikipedia.org/wiki/Heart_rate_variability) is the primary meaure of preparedness for stress which My Oura ring uses to advise me on how much exercise would be optimal for me.\n",
    "\n",
    "I thought i'd try throwing arima at my own HRV data and seeing waht would come of it. As of writing, there's a chance that I wont need the \"I\" in ARIMA but we'll get to that in the assumption testing section of all this.\n",
    "\n",
    "TOC\n",
    "\n",
    "- Assumption of:\n",
    "    - Stationarity\n",
    "    - "
   ]
  },
  {
   "cell_type": "code",
   "execution_count": null,
   "metadata": {},
   "outputs": [],
   "source": [
    "import numpy as np\n",
    "import pandas as pd"
   ]
  },
  {
   "cell_type": "code",
   "execution_count": null,
   "metadata": {},
   "outputs": [],
   "source": [
    "# --- Get Data\n",
    "\n",
    "df = pd.from_csv(\"\")"
   ]
  },
  {
   "cell_type": "markdown",
   "metadata": {},
   "source": [
    "### 1. Coordinate Assumptions\n",
    "\n",
    "First determine whether or not the data is stationary"
   ]
  },
  {
   "cell_type": "code",
   "execution_count": null,
   "metadata": {},
   "outputs": [],
   "source": [
    "# --- Check for Stationarity\n",
    "\n",
    "from statsmodels.tsa.stattools import adfuller\n",
    "\n"
   ]
  }
 ],
 "metadata": {
  "kernelspec": {
   "display_name": "Python 3",
   "language": "python",
   "name": "python3"
  },
  "language_info": {
   "codemirror_mode": {
    "name": "ipython",
    "version": 3
   },
   "file_extension": ".py",
   "mimetype": "text/x-python",
   "name": "python",
   "nbconvert_exporter": "python",
   "pygments_lexer": "ipython3",
   "version": "3.8.5"
  }
 },
 "nbformat": 4,
 "nbformat_minor": 4
}
