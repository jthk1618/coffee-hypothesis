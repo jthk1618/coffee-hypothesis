{
 "cells": [
  {
   "cell_type": "markdown",
   "metadata": {},
   "source": [
    "# ARIMA GARCH\n",
    "___\n",
    "\n",
    "In the hrv_arima notebook, I ran through the steps for deducing the appropriate paramters for an ARIMA model. Because it was my first attempt as well a discursive in order to explain it to the reader (myself), I fleshed out much of the discussion as well as cutting the analysis down to keep things simple. I also ignored most of the data available to me and worked with only a few variables which I have little reason to think are particularly suitable for ARIMA testing. Another thing that bugged me was the arbitrary choice of season and it made no sense to me that there wouldn't be tests for it. So, for this notebook, I want to repeat the steps of the initial arima notebook but with a few changes.\n",
    "\n",
    "1. Incorporate all of the available data\n",
    "2. Simplify and generalise things\n",
    "3. Plot relevant outputs\n",
    "4. Do a GARCH to introduce forecasting of variance"
   ]
  },
  {
   "cell_type": "code",
   "execution_count": 2,
   "metadata": {},
   "outputs": [],
   "source": [
    "import numpy as np\n",
    "import pandas as pd\n",
    "import datetime as dt\n",
    "import matplotlib.pyplot as plt\n",
    "import json"
   ]
  },
  {
   "cell_type": "markdown",
   "metadata": {},
   "source": [
    "### Some questions \n",
    "\n",
    "Q: How do I get seasonality?\n",
    "\n",
    "FFT. Numpy has a convenient, discrete FFT function built into it. \n",
    "\n",
    "**Steps**\n",
    "\n",
    "1. Separate scores and metrics. In particular, datetimes converted into integers should probably be treated differently.\n",
    "2. For each unique set, infer seasonality using FFT\n",
    "3. Infer other ARIMA parameters\n",
    "4. Introduce GARCH to the most \"successful\" model\n"
   ]
  },
  {
   "cell_type": "code",
   "execution_count": 3,
   "metadata": {},
   "outputs": [
    {
     "data": {
      "text/html": [
       "<div>\n",
       "<style scoped>\n",
       "    .dataframe tbody tr th:only-of-type {\n",
       "        vertical-align: middle;\n",
       "    }\n",
       "\n",
       "    .dataframe tbody tr th {\n",
       "        vertical-align: top;\n",
       "    }\n",
       "\n",
       "    .dataframe thead th {\n",
       "        text-align: right;\n",
       "    }\n",
       "</style>\n",
       "<table border=\"1\" class=\"dataframe\">\n",
       "  <thead>\n",
       "    <tr style=\"text-align: right;\">\n",
       "      <th></th>\n",
       "      <th>total_bedtime</th>\n",
       "      <th>total_sleep_time</th>\n",
       "      <th>awake_time</th>\n",
       "      <th>rem_sleep_time</th>\n",
       "      <th>light_sleep_time</th>\n",
       "      <th>deep_sleep_time</th>\n",
       "      <th>restless_sleep</th>\n",
       "      <th>sleep_efficiency</th>\n",
       "      <th>sleep_latency</th>\n",
       "      <th>sleep_timing</th>\n",
       "      <th>...</th>\n",
       "      <th>steps</th>\n",
       "      <th>daily_movement</th>\n",
       "      <th>inactive_time</th>\n",
       "      <th>rest_time</th>\n",
       "      <th>low_activity_time</th>\n",
       "      <th>medium_activity_time</th>\n",
       "      <th>high_activity_time</th>\n",
       "      <th>non_wear_time</th>\n",
       "      <th>average_met</th>\n",
       "      <th>long_periods_of_inactivity</th>\n",
       "    </tr>\n",
       "    <tr>\n",
       "      <th>date</th>\n",
       "      <th></th>\n",
       "      <th></th>\n",
       "      <th></th>\n",
       "      <th></th>\n",
       "      <th></th>\n",
       "      <th></th>\n",
       "      <th></th>\n",
       "      <th></th>\n",
       "      <th></th>\n",
       "      <th></th>\n",
       "      <th></th>\n",
       "      <th></th>\n",
       "      <th></th>\n",
       "      <th></th>\n",
       "      <th></th>\n",
       "      <th></th>\n",
       "      <th></th>\n",
       "      <th></th>\n",
       "      <th></th>\n",
       "      <th></th>\n",
       "      <th></th>\n",
       "    </tr>\n",
       "  </thead>\n",
       "  <tbody>\n",
       "    <tr>\n",
       "      <th>2020-01-01</th>\n",
       "      <td>31380.0</td>\n",
       "      <td>25440.0</td>\n",
       "      <td>5940.0</td>\n",
       "      <td>4530.0</td>\n",
       "      <td>14760.0</td>\n",
       "      <td>6150.0</td>\n",
       "      <td>39.0</td>\n",
       "      <td>81.0</td>\n",
       "      <td>690.0</td>\n",
       "      <td>14550.0</td>\n",
       "      <td>...</td>\n",
       "      <td>10182</td>\n",
       "      <td>8158</td>\n",
       "      <td>433</td>\n",
       "      <td>528</td>\n",
       "      <td>135</td>\n",
       "      <td>71</td>\n",
       "      <td>0</td>\n",
       "      <td>273</td>\n",
       "      <td>1.40625</td>\n",
       "      <td>0</td>\n",
       "    </tr>\n",
       "    <tr>\n",
       "      <th>2020-01-02</th>\n",
       "      <td>31680.0</td>\n",
       "      <td>25200.0</td>\n",
       "      <td>6480.0</td>\n",
       "      <td>3900.0</td>\n",
       "      <td>15270.0</td>\n",
       "      <td>6030.0</td>\n",
       "      <td>37.0</td>\n",
       "      <td>80.0</td>\n",
       "      <td>960.0</td>\n",
       "      <td>15390.0</td>\n",
       "      <td>...</td>\n",
       "      <td>11540</td>\n",
       "      <td>9193</td>\n",
       "      <td>549</td>\n",
       "      <td>531</td>\n",
       "      <td>289</td>\n",
       "      <td>57</td>\n",
       "      <td>0</td>\n",
       "      <td>14</td>\n",
       "      <td>1.50000</td>\n",
       "      <td>0</td>\n",
       "    </tr>\n",
       "    <tr>\n",
       "      <th>2020-01-03</th>\n",
       "      <td>28980.0</td>\n",
       "      <td>23010.0</td>\n",
       "      <td>5970.0</td>\n",
       "      <td>720.0</td>\n",
       "      <td>16500.0</td>\n",
       "      <td>5790.0</td>\n",
       "      <td>40.0</td>\n",
       "      <td>79.0</td>\n",
       "      <td>780.0</td>\n",
       "      <td>14400.0</td>\n",
       "      <td>...</td>\n",
       "      <td>12361</td>\n",
       "      <td>10451</td>\n",
       "      <td>404</td>\n",
       "      <td>473</td>\n",
       "      <td>202</td>\n",
       "      <td>84</td>\n",
       "      <td>2</td>\n",
       "      <td>275</td>\n",
       "      <td>1.50000</td>\n",
       "      <td>0</td>\n",
       "    </tr>\n",
       "    <tr>\n",
       "      <th>2020-01-04</th>\n",
       "      <td>28140.0</td>\n",
       "      <td>23280.0</td>\n",
       "      <td>4860.0</td>\n",
       "      <td>4620.0</td>\n",
       "      <td>14460.0</td>\n",
       "      <td>4200.0</td>\n",
       "      <td>44.0</td>\n",
       "      <td>83.0</td>\n",
       "      <td>900.0</td>\n",
       "      <td>14490.0</td>\n",
       "      <td>...</td>\n",
       "      <td>18978</td>\n",
       "      <td>16275</td>\n",
       "      <td>329</td>\n",
       "      <td>501</td>\n",
       "      <td>484</td>\n",
       "      <td>73</td>\n",
       "      <td>0</td>\n",
       "      <td>53</td>\n",
       "      <td>1.71875</td>\n",
       "      <td>0</td>\n",
       "    </tr>\n",
       "    <tr>\n",
       "      <th>2020-01-05</th>\n",
       "      <td>30300.0</td>\n",
       "      <td>23460.0</td>\n",
       "      <td>6840.0</td>\n",
       "      <td>2100.0</td>\n",
       "      <td>13170.0</td>\n",
       "      <td>8190.0</td>\n",
       "      <td>34.0</td>\n",
       "      <td>77.0</td>\n",
       "      <td>1680.0</td>\n",
       "      <td>14610.0</td>\n",
       "      <td>...</td>\n",
       "      <td>11761</td>\n",
       "      <td>9867</td>\n",
       "      <td>359</td>\n",
       "      <td>530</td>\n",
       "      <td>298</td>\n",
       "      <td>47</td>\n",
       "      <td>0</td>\n",
       "      <td>206</td>\n",
       "      <td>1.46875</td>\n",
       "      <td>0</td>\n",
       "    </tr>\n",
       "  </tbody>\n",
       "</table>\n",
       "<p>5 rows × 30 columns</p>\n",
       "</div>"
      ],
      "text/plain": [
       "            total_bedtime  total_sleep_time  awake_time  rem_sleep_time  \\\n",
       "date                                                                      \n",
       "2020-01-01        31380.0           25440.0      5940.0          4530.0   \n",
       "2020-01-02        31680.0           25200.0      6480.0          3900.0   \n",
       "2020-01-03        28980.0           23010.0      5970.0           720.0   \n",
       "2020-01-04        28140.0           23280.0      4860.0          4620.0   \n",
       "2020-01-05        30300.0           23460.0      6840.0          2100.0   \n",
       "\n",
       "            light_sleep_time  deep_sleep_time  restless_sleep  \\\n",
       "date                                                            \n",
       "2020-01-01           14760.0           6150.0            39.0   \n",
       "2020-01-02           15270.0           6030.0            37.0   \n",
       "2020-01-03           16500.0           5790.0            40.0   \n",
       "2020-01-04           14460.0           4200.0            44.0   \n",
       "2020-01-05           13170.0           8190.0            34.0   \n",
       "\n",
       "            sleep_efficiency  sleep_latency  sleep_timing  ...  steps  \\\n",
       "date                                                       ...          \n",
       "2020-01-01              81.0          690.0       14550.0  ...  10182   \n",
       "2020-01-02              80.0          960.0       15390.0  ...  11540   \n",
       "2020-01-03              79.0          780.0       14400.0  ...  12361   \n",
       "2020-01-04              83.0          900.0       14490.0  ...  18978   \n",
       "2020-01-05              77.0         1680.0       14610.0  ...  11761   \n",
       "\n",
       "            daily_movement  inactive_time  rest_time  low_activity_time  \\\n",
       "date                                                                      \n",
       "2020-01-01            8158            433        528                135   \n",
       "2020-01-02            9193            549        531                289   \n",
       "2020-01-03           10451            404        473                202   \n",
       "2020-01-04           16275            329        501                484   \n",
       "2020-01-05            9867            359        530                298   \n",
       "\n",
       "            medium_activity_time  high_activity_time  non_wear_time  \\\n",
       "date                                                                  \n",
       "2020-01-01                    71                   0            273   \n",
       "2020-01-02                    57                   0             14   \n",
       "2020-01-03                    84                   2            275   \n",
       "2020-01-04                    73                   0             53   \n",
       "2020-01-05                    47                   0            206   \n",
       "\n",
       "            average_met  long_periods_of_inactivity  \n",
       "date                                                 \n",
       "2020-01-01      1.40625                           0  \n",
       "2020-01-02      1.50000                           0  \n",
       "2020-01-03      1.50000                           0  \n",
       "2020-01-04      1.71875                           0  \n",
       "2020-01-05      1.46875                           0  \n",
       "\n",
       "[5 rows x 30 columns]"
      ]
     },
     "metadata": {},
     "output_type": "display_data"
    }
   ],
   "source": [
    "# --- Grab data \n",
    "\n",
    "data = pd.read_csv(\"data/oura_clean.csv\")\n",
    "data.index = pd.to_datetime(data['date'])\n",
    "data = data.drop([\"Unnamed: 0\",'date'], axis=1)\n",
    "data = data[[i for i in data.columns if \"score\" not in i]]\n",
    "columns = data.columns\n",
    "display(data.head())\n",
    "\n",
    "# --- Store SARIMAX parameters\n",
    "sarimax_params = {}"
   ]
  },
  {
   "cell_type": "code",
   "execution_count": 4,
   "metadata": {},
   "outputs": [
    {
     "data": {
      "text/plain": [
       "Index(['total_bedtime', 'total_sleep_time', 'awake_time', 'rem_sleep_time',\n",
       "       'light_sleep_time', 'deep_sleep_time', 'restless_sleep',\n",
       "       'sleep_efficiency', 'sleep_latency', 'sleep_timing', 'bedtime_start',\n",
       "       'bedtime_end', 'average_resting_heart_rate',\n",
       "       'lowest_resting_heart_rate', 'average_hrv',\n",
       "       'temperature_deviation_celcius', 'respiratory_rate', 'activity_burn',\n",
       "       'total_burn', 'target_calories', 'steps', 'daily_movement',\n",
       "       'inactive_time', 'rest_time', 'low_activity_time',\n",
       "       'medium_activity_time', 'high_activity_time', 'non_wear_time',\n",
       "       'average_met', 'long_periods_of_inactivity'],\n",
       "      dtype='object')"
      ]
     },
     "execution_count": 4,
     "metadata": {},
     "output_type": "execute_result"
    }
   ],
   "source": [
    "columns"
   ]
  },
  {
   "cell_type": "code",
   "execution_count": 5,
   "metadata": {},
   "outputs": [
    {
     "data": {
      "text/plain": [
       "date\n",
       "2020-01-01    1577790038\n",
       "2020-01-02    1577876522\n",
       "2020-01-03    1577962103\n",
       "2020-01-04    1578048994\n",
       "2020-01-05    1578137012\n",
       "                 ...    \n",
       "2021-01-23    1611315377\n",
       "2021-01-24    1611401789\n",
       "2021-01-25    1611488201\n",
       "2021-01-26    1611574741\n",
       "2021-01-27    1611660624\n",
       "Name: bedtime_start, Length: 392, dtype: int64"
      ]
     },
     "execution_count": 5,
     "metadata": {},
     "output_type": "execute_result"
    }
   ],
   "source": [
    "data['bedtime_start']"
   ]
  },
  {
   "cell_type": "markdown",
   "metadata": {},
   "source": [
    "## Determine d for SARIMAX(p, d, q)"
   ]
  },
  {
   "cell_type": "code",
   "execution_count": 6,
   "metadata": {
    "scrolled": false
   },
   "outputs": [],
   "source": [
    "# --- Attain d: Augmented Dicky Fuller Testing\n",
    "\n",
    "from statsmodels.tsa.stattools import adfuller\n",
    "\n",
    "def make_stationary(\n",
    "    col : pd.core.series.Series,\n",
    "    verbose : bool=False,\n",
    "    significance : float=0.05) -> (int, pd.core.series.Series):\n",
    "\n",
    "    has_root = True # \"H0: series has a unit root\"\n",
    "    d = 0 # n differencing required\n",
    "    x = col\n",
    "    while has_root:\n",
    "        result =  dict(zip(['adf', 'pvalue', 'usedlag', 'nobs',\n",
    "                             'critical' 'values', 'icbest'], adfuller(x)))\n",
    "        if verbose: print(json.dumps(result, sort_keys=True, indent=4))\n",
    "        if result['pvalue'] < significance: has_root = False\n",
    "        else:\n",
    "            x = x - x.shift(1)\n",
    "            x = x.dropna()\n",
    "            d += 1\n",
    "    return d, x"
   ]
  },
  {
   "cell_type": "code",
   "execution_count": 7,
   "metadata": {},
   "outputs": [],
   "source": [
    "# --- Build stationary df\n",
    "\n",
    "stationary_df = pd.DataFrame(index=data.index, columns=data.columns)\n",
    "sig = 0.01\n",
    "\n",
    "for col in columns:\n",
    "    stationarity = make_stationary(data[col], significance=sig, verbose=False)\n",
    "    sarimax_params[col] = {\"d\" : stationarity[0]}\n",
    "    stationary_df[col] = stationarity[1]"
   ]
  },
  {
   "cell_type": "code",
   "execution_count": 8,
   "metadata": {
    "scrolled": false
   },
   "outputs": [],
   "source": [
    "# # --- Determine seasonality\n",
    "\n",
    "# var = 'temperature_deviation_celcius'\n",
    "# test = stationary_df[var]\n",
    "# N = len(test)\n",
    "\n",
    "# ft = np.fft.fft(test) / N\n",
    "# ft = ft[range(int(N/2))]\n",
    "\n",
    "# _, ax = plt.subplots(len(columns), 2, figsize=(18, 4 * len(columns)))\n",
    "# for i in range(len(columns)):\n",
    "#     col_data = stationary_df[columns[i]]\n",
    "#     ax[i, 0].set_title(f'test variable: {columns[i]} original plot')\n",
    "#     ax[i, 0].plot(range(N), col_data)\n",
    "\n",
    "# #     ft = np.fft.fft(col_data, norm=\"ortho\")# / N\n",
    "# #     ft = ft[range(int(N/2))]\n",
    "# #     v = np.arange(N/2)\n",
    "# #     freq = v/(N/len(col_data))\n",
    "    \n",
    "# #     t = np.arange(256)\n",
    "#     sp = np.fft.fft(col_data)\n",
    "#     freq = np.fft.fftfreq(np.arange(N).shape[-1])\n",
    "#     ax[i, 1].plot(freq, sp.real, freq, sp.imag, \"--\")\n",
    "    \n",
    "# #     ax[i, 1].plot(freq[1:25], abs(ft)[1:25])"
   ]
  },
  {
   "cell_type": "markdown",
   "metadata": {},
   "source": [
    "## Determine p for SARIMAX(p, d, q)"
   ]
  },
  {
   "cell_type": "code",
   "execution_count": 9,
   "metadata": {
    "scrolled": false
   },
   "outputs": [
    {
     "name": "stdout",
     "output_type": "stream",
     "text": [
      "0 0\n"
     ]
    },
    {
     "data": {
      "text/plain": [
       "[<matplotlib.lines.Line2D at 0x14762d130>]"
      ]
     },
     "execution_count": 9,
     "metadata": {},
     "output_type": "execute_result"
    },
    {
     "data": {
      "image/png": "[encoded data removed]",
      "text/plain": [
       "<Figure size 1152x288 with 2 Axes>"
      ]
     },
     "metadata": {
      "needs_background": "light"
     },
     "output_type": "display_data"
    }
   ],
   "source": [
    "# --- Attain p : Autocorrelation\n",
    "\n",
    "from statsmodels.tsa.stattools import acf, pacf\n",
    "\n",
    "_, ax = plt.subplots(1, 2, figsize=(16, 4))\n",
    "\n",
    "# var = 'average_hrv'\n",
    "var = 'sleep_timing'\n",
    "\n",
    "test = stationary_df[var]\n",
    "N = len(test)\n",
    "nlags = int(10 * np.log10(N))\n",
    "\n",
    "acf_x, acf_conf = acf(test, alpha=sig, nlags=nlags, fft=False)\n",
    "pacf_x, pacf_conf = pacf(test, alpha=sig, nlags=nlags)\n",
    "\n",
    "# remove zero lag\n",
    "acf_x, pacf_x = acf_x[1:], pacf_x[1:] \n",
    "acf_conf, pacf_conf = acf_conf[1:], pacf_conf[1:]\n",
    "\n",
    "sig_acf_count, sig_pacf_count = 0, 0\n",
    "pacf_above = True\n",
    "acf_above = True\n",
    "\n",
    "while acf_above:\n",
    "    if 2 * acf_x[sig_acf_count] - acf_conf[sig_acf_count, 1] > 0.01:\n",
    "        sig_acf_count += 1\n",
    "    else:\n",
    "        acf_above = False\n",
    "        \n",
    "while pacf_above:\n",
    "    if 2 * pacf_x[sig_pacf_count] - pacf_conf[sig_pacf_count, 1] > 0.01:\n",
    "        sig_pacf_count += 1\n",
    "    else:\n",
    "        pacf_above = False\n",
    "\n",
    "print(sig_acf_count, sig_pacf_count)\n",
    "\n",
    "ax[0].plot(range(nlags), acf_x, 'o')\n",
    "ax[0].plot(range(nlags), acf_conf[:, 1] - acf_x,'--')\n",
    "\n",
    "ax[1].plot(range(nlags), pacf_x, 'o')\n",
    "ax[1].plot(range(nlags), pacf_conf[:, 1] - pacf_x, '--')"
   ]
  },
  {
   "cell_type": "code",
   "execution_count": 10,
   "metadata": {},
   "outputs": [],
   "source": [
    "# --- Attain p, q\n",
    "\n",
    "from statsmodels.tsa.stattools import acf, pacf\n",
    "\n",
    "def autocorr_tests(\n",
    "    col : pd.core.series.Series,\n",
    "    plot : bool=False,\n",
    "    significance : float=0.05) -> (int, int):\n",
    "    \n",
    "    N = len(col)\n",
    "    nlags = int(10 * np.log10(N))\n",
    "    \n",
    "    acf_x, acf_conf = acf(col, alpha=sig, nlags=nlags, fft=False)\n",
    "    pacf_x, pacf_conf = pacf(col, alpha=sig, nlags=nlags)\n",
    "\n",
    "    # remove zero lag\n",
    "    acf_x, pacf_x = acf_x[1:], pacf_x[1:]\n",
    "    acf_conf, pacf_conf = acf_conf[1:], pacf_conf[1:]\n",
    "\n",
    "    sig_acf_count, sig_pacf_count = 0, 0\n",
    "    pacf_above = True\n",
    "    acf_above = True\n",
    "    \n",
    "    while acf_above:\n",
    "        if 2 * acf_x[sig_acf_count] - acf_conf[sig_acf_count, 1] > 0.01:\n",
    "            sig_acf_count += 1\n",
    "        else:\n",
    "            acf_above = False\n",
    "\n",
    "    while pacf_above:\n",
    "        if 2 * pacf_x[sig_pacf_count] - pacf_conf[sig_pacf_count, 1] > 0.01:\n",
    "            sig_pacf_count += 1\n",
    "        else:\n",
    "            pacf_above = False\n",
    "    \n",
    "    if plot:\n",
    "        _, ax = plt.subplots(1, 2, figsize=(16, 4))\n",
    "        ax[0].plot(range(nlags), acf_x, 'o')\n",
    "        ax[0].plot(range(nlags), acf_conf[:, 1] - acf_x,'--')\n",
    "        ax[1].plot(range(nlags), pacf_x, 'o')\n",
    "        ax[1].plot(range(nlags), pacf_conf[:, 1] - pacf_x, '--')\n",
    "        ax[0].set(ylim=(-1, 1))\n",
    "        ax[1].set(ylim=(-1, 1))\n",
    "    return (sig_acf_count, sig_pacf_count)"
   ]
  },
  {
   "cell_type": "code",
   "execution_count": 11,
   "metadata": {},
   "outputs": [
    {
     "name": "stdout",
     "output_type": "stream",
     "text": [
      "total_bedtime (0, 0)\n",
      "total_sleep_time (0, 0)\n",
      "awake_time (2, 2)\n",
      "rem_sleep_time (0, 0)\n",
      "light_sleep_time (1, 1)\n",
      "deep_sleep_time (1, 1)\n",
      "restless_sleep (2, 1)\n",
      "sleep_efficiency (4, 2)\n",
      "sleep_latency (0, 0)\n",
      "sleep_timing (0, 0)\n",
      "bedtime_start (0, 0)\n",
      "bedtime_end (0, 0)\n",
      "average_resting_heart_rate (10, 5)\n",
      "lowest_resting_heart_rate (10, 5)\n",
      "average_hrv (10, 4)\n",
      "temperature_deviation_celcius (1, 1)\n",
      "respiratory_rate (6, 2)\n",
      "activity_burn (3, 1)\n",
      "total_burn (1, 1)\n",
      "target_calories (5, 3)\n",
      "steps (4, 1)\n",
      "daily_movement (4, 3)\n",
      "inactive_time (0, 0)\n",
      "rest_time (0, 0)\n",
      "low_activity_time (2, 2)\n",
      "medium_activity_time (4, 1)\n",
      "high_activity_time (0, 0)\n",
      "non_wear_time (0, 0)\n",
      "average_met (3, 2)\n",
      "long_periods_of_inactivity (1, 1)\n"
     ]
    }
   ],
   "source": [
    "for i in columns:\n",
    "    \n",
    "    counts = autocorr_tests(stationary_df[i])\n",
    "    print(i, counts)"
   ]
  },
  {
   "cell_type": "code",
   "execution_count": 12,
   "metadata": {},
   "outputs": [
    {
     "data": {
      "text/plain": [
       "(6, 2)"
      ]
     },
     "execution_count": 12,
     "metadata": {},
     "output_type": "execute_result"
    },
    {
     "data": {
      "image/png": "[encoded data removed]",
      "text/plain": [
       "<Figure size 432x288 with 1 Axes>"
      ]
     },
     "metadata": {
      "needs_background": "light"
     },
     "output_type": "display_data"
    },
    {
     "data": {
      "image/png": "[encoded data removed]",
      "text/plain": [
       "<Figure size 1152x288 with 2 Axes>"
      ]
     },
     "metadata": {
      "needs_background": "light"
     },
     "output_type": "display_data"
    }
   ],
   "source": [
    "test_v = \"respiratory_rate\"\n",
    "stationary_df[test_v].plot(kind=\"kde\")\n",
    "autocorr_tests(stationary_df[test_v], plot=True)"
   ]
  },
  {
   "cell_type": "code",
   "execution_count": 49,
   "metadata": {},
   "outputs": [
    {
     "name": "stderr",
     "output_type": "stream",
     "text": [
      "/usr/local/lib/python3.8/site-packages/statsmodels/tsa/base/tsa_model.py:581: ValueWarning: A date index has been provided, but it has no associated frequency information and so will be ignored when e.g. forecasting.\n",
      "  warnings.warn('A date index has been provided, but it has no'\n",
      "/usr/local/lib/python3.8/site-packages/statsmodels/tsa/base/tsa_model.py:581: ValueWarning: A date index has been provided, but it has no associated frequency information and so will be ignored when e.g. forecasting.\n",
      "  warnings.warn('A date index has been provided, but it has no'\n"
     ]
    },
    {
     "data": {
      "image/png": "[encoded data removed]",
      "text/plain": [
       "<Figure size 1152x576 with 2 Axes>"
      ]
     },
     "metadata": {
      "needs_background": "light"
     },
     "output_type": "display_data"
    }
   ],
   "source": [
    "# from statsmodels.tsa.statespace.sarimax import SARIMAX\n",
    "\n",
    "# d : differencing\n",
    "# p : AR terms\n",
    "# q : MA terms\n",
    "\n",
    "p, d, q = 0, 1, 1\n",
    "\n",
    "model = SARIMAX(\n",
    "        stationary_df[test_v],\n",
    "        order=(p, d, q),\n",
    "    );\n",
    "\n",
    "_, ax = plt.subplots(2, 1, figsize=(16, 8))\n",
    "\n",
    "fit = model.fit();\n",
    "residuals = fit.resid;\n",
    "\n",
    "y = stationary_df[test_v]\n",
    "x = len(y)-1\n",
    "# ax.plot(range(x), y[1:]-np.mean(y[1:]))\n",
    "ax[0].plot(range(x), residuals[1:], '.')\n",
    "\n",
    "model.fit().resid.plot(kind=\"kde\", ax=ax[1])\n",
    "ax[1].set();"
   ]
  },
  {
   "cell_type": "code",
   "execution_count": 50,
   "metadata": {
    "scrolled": false
   },
   "outputs": [
    {
     "name": "stdout",
     "output_type": "stream",
     "text": [
      "ma.L1    -0.808656\n",
      "sigma2    0.069012\n",
      "dtype: float64\n"
     ]
    },
    {
     "data": {
      "image/png": "[encoded data removed]",
      "text/plain": [
       "<Figure size 1152x432 with 2 Axes>"
      ]
     },
     "metadata": {
      "needs_background": "light"
     },
     "output_type": "display_data"
    }
   ],
   "source": [
    "print(fit.params)\n",
    "\n",
    "from statsmodels.graphics.tsaplots import plot_acf, plot_pacf\n",
    "\n",
    "_, ax = plt.subplots(1, 2, figsize=(16, 6))\n",
    "\n",
    "plot_acf(residuals[1:], ax=ax[0], );\n",
    "plot_pacf(residuals[1:], ax=ax[1]);"
   ]
  },
  {
   "cell_type": "code",
   "execution_count": null,
   "metadata": {},
   "outputs": [],
   "source": []
  },
  {
   "cell_type": "code",
   "execution_count": 51,
   "metadata": {},
   "outputs": [
    {
     "ename": "SyntaxError",
     "evalue": "invalid syntax (<ipython-input-51-ec0bc70c9c87>, line 4)",
     "output_type": "error",
     "traceback": [
      "\u001b[0;36m  File \u001b[0;32m\"<ipython-input-51-ec0bc70c9c87>\"\u001b[0;36m, line \u001b[0;32m4\u001b[0m\n\u001b[0;31m    model_.plot(ax=ax)|\u001b[0m\n\u001b[0m                       ^\u001b[0m\n\u001b[0;31mSyntaxError\u001b[0m\u001b[0;31m:\u001b[0m invalid syntax\n"
     ]
    }
   ],
   "source": [
    "_, ax = plt.subplots(1, figsize=(16, 6))\n",
    "stationary_df[test_v].plot(ax=ax, c=\"orange\")\n",
    "model_ = fit.predict()[1:]\n",
    "model_.plot(ax=ax)\n"
   ]
  },
  {
   "cell_type": "code",
   "execution_count": 57,
   "metadata": {},
   "outputs": [
    {
     "name": "stderr",
     "output_type": "stream",
     "text": [
      "/usr/local/lib/python3.8/site-packages/statsmodels/stats/diagnostic.py:531: FutureWarning: The default value of lags is changing.  After 0.12, this value will become min(10, nobs//5). Directly setlags to silence this warning.\n",
      "  warnings.warn(\"The default value of lags is changing.  After 0.12, \"\n",
      "/usr/local/lib/python3.8/site-packages/statsmodels/stats/diagnostic.py:559: FutureWarning: The value returned will change to a single DataFrame after 0.12 is released.  Set return_df to True to use to return a DataFrame now.  Set return_df to False to silence this warning.\n",
      "  warnings.warn(msg, FutureWarning)\n"
     ]
    },
    {
     "data": {
      "text/plain": [
       "[<matplotlib.lines.Line2D at 0x14acff940>]"
      ]
     },
     "execution_count": 57,
     "metadata": {},
     "output_type": "execute_result"
    },
    {
     "data": {
      "image/png": "[encoded data removed]",
      "text/plain": [
       "<Figure size 576x576 with 1 Axes>"
      ]
     },
     "metadata": {
      "needs_background": "light"
     },
     "output_type": "display_data"
    }
   ],
   "source": [
    "from statsmodels.stats.diagnostic import acorr_ljungbox as jbox\n",
    "\n",
    "_, ax = plt.subplots(1, figsize=(8, 8))\n",
    "y = jbox(residuals, model_df=0)\n",
    "ax.plot(range(len(y[0])), y[0])"
   ]
  },
  {
   "cell_type": "code",
   "execution_count": null,
   "metadata": {},
   "outputs": [],
   "source": []
  },
  {
   "cell_type": "code",
   "execution_count": 17,
   "metadata": {},
   "outputs": [
    {
     "ename": "SyntaxError",
     "evalue": "invalid syntax (<ipython-input-17-1e0f904649f4>, line 6)",
     "output_type": "error",
     "traceback": [
      "\u001b[0;36m  File \u001b[0;32m\"<ipython-input-17-1e0f904649f4>\"\u001b[0;36m, line \u001b[0;32m6\u001b[0m\n\u001b[0;31m    y_next = - ar * pred_y[t] -\u001b[0m\n\u001b[0m                                ^\u001b[0m\n\u001b[0;31mSyntaxError\u001b[0m\u001b[0;31m:\u001b[0m invalid syntax\n"
     ]
    }
   ],
   "source": [
    "ar, ma, sig = fit.params\n",
    "\n",
    "pred_y = [stationary_df[test_v][0]]\n",
    "\n",
    "for t in range(x):\n",
    "    y_next = - ar * pred_y[t] - "
   ]
  },
  {
   "cell_type": "code",
   "execution_count": null,
   "metadata": {},
   "outputs": [],
   "source": [
    "m2 = model.clone(stationary_df[test_v])\n",
    "new_parameters = \n",
    "m2.update(new_parameters)\n"
   ]
  },
  {
   "cell_type": "code",
   "execution_count": null,
   "metadata": {},
   "outputs": [],
   "source": [
    "dates = stationary_df.index\n",
    "n=10\n",
    "extended = dates.union(dates.shift(periods=n, freq=\"D\")[-n:])\n",
    "\n"
   ]
  },
  {
   "cell_type": "code",
   "execution_count": null,
   "metadata": {},
   "outputs": [],
   "source": [
    "# ((residuals - np.mean(residuals))/np.std(residuals)).plot(kind='kde')\n",
    "np.mean(residuals), np.std(residuals)"
   ]
  },
  {
   "cell_type": "code",
   "execution_count": null,
   "metadata": {},
   "outputs": [],
   "source": [
    "np.std(residuals)"
   ]
  },
  {
   "cell_type": "code",
   "execution_count": null,
   "metadata": {},
   "outputs": [],
   "source": [
    "from scipy.stats import shapiro\n",
    "\n",
    "n_stat, p_val = shapiro(residuals)\n",
    "print(p_val)"
   ]
  },
  {
   "cell_type": "code",
   "execution_count": null,
   "metadata": {},
   "outputs": [],
   "source": []
  },
  {
   "cell_type": "code",
   "execution_count": null,
   "metadata": {},
   "outputs": [],
   "source": [
    "var = 'total_sleep_time'\n",
    "test = stationary_df[var]\n",
    "x = acf(test, alpha=0.01, fft=False)\n",
    "xfft = acf(test, alpha=0.01, fft=True)\n",
    "\n",
    "x_ax = range(len(x[0]))\n",
    "\n",
    "_, ax = plt.subplots(1, 2, figsize=(16, 4))\n",
    "\n",
    "ax[0].plot(x_ax, x[1][:, 1] - x[0])\n",
    "ax[0].plot(x_ax, x[0], 'x', c=\"orange\" )\n",
    "\n",
    "\n",
    "ax[1].plot(x_ax, xfft[1][:, 1] - x[0])\n",
    "ax[1].plot(x_ax, xfft[0], 'x', c=\"orange\" )"
   ]
  },
  {
   "cell_type": "code",
   "execution_count": null,
   "metadata": {},
   "outputs": [],
   "source": []
  },
  {
   "cell_type": "code",
   "execution_count": null,
   "metadata": {},
   "outputs": [],
   "source": []
  },
  {
   "cell_type": "code",
   "execution_count": null,
   "metadata": {},
   "outputs": [],
   "source": []
  }
 ],
 "metadata": {
  "kernelspec": {
   "display_name": "Python 3",
   "language": "python",
   "name": "python3"
  },
  "language_info": {
   "codemirror_mode": {
    "name": "ipython",
    "version": 3
   },
   "file_extension": ".py",
   "mimetype": "text/x-python",
   "name": "python",
   "nbconvert_exporter": "python",
   "pygments_lexer": "ipython3",
   "version": "3.8.5"
  }
 },
 "nbformat": 4,
 "nbformat_minor": 4
}
